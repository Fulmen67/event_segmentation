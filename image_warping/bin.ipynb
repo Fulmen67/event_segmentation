{
 "cells": [
  {
   "cell_type": "code",
   "execution_count": null,
   "metadata": {},
   "outputs": [],
   "source": [
    "#mask = np.zeros(shape = image.shape[:2])\n",
    "#mask = np.zeros(image.shape, dtype=np.uint8)\n",
    "#mask = cv2.circle(mask, (260, 300), 225, (255,255,255), -1) \n",
    "\n",
    "#mask[mask == 255] = 1\n",
    "#image[mask == 0] = 0\n",
    "\n",
    "\n",
    "a = np.array([[1, 2, 3, 20],[4, 5, 6, 21], [24,25,26,27]])\n",
    "b = np.array([[7, 8, 9, 22],[10,11,12, 23], [28,29,31]])\n",
    "c = np.stack((a,b), axis = 0)\n",
    "d = np.stack((a,b), axis = 1)\n",
    "\n",
    "print(rgb_layers.shape)\n",
    "pixel_x, pixel_y = np.where(rgb_layers[:,:,0] != 0)\n",
    "print(type(pixel_x))\n",
    "print(len(pixel_y))\n",
    "\n"
   ]
  },
  {
   "cell_type": "code",
   "execution_count": null,
   "metadata": {},
   "outputs": [],
   "source": [
    "class Image_Warping():\n",
    "    \n",
    "    def __init__(self, N = 1, circle_radius = 25, path = \"McS9K.jpg\"):\n",
    "        self.N = N\n",
    "        self.radius = circle_radius\n",
    "        self.path = path\n",
    "        \n",
    "        pass\n",
    "\n",
    "    def image_loader(self.path):\n",
    "    '''load image'''\n",
    "    image = Image.open(self.path)\n",
    "    image = np.asarray(image)\n",
    "    img = image.copy()\n",
    "    image_shape = image.shape\n",
    "    plt.figure()\n",
    "    plt.imshow(img)\n",
    "    return img, image_shape"
   ]
  },
  {
   "cell_type": "code",
   "execution_count": null,
   "metadata": {},
   "outputs": [],
   "source": [
    "warped_rgb_layer = np.zeros_like(image)\n",
    "warped_rgb_layer[new_pixel_x, new_pixel_y] = rgb_layers[pixel_x, pixel_y]\n"
   ]
  },
  {
   "cell_type": "code",
   "execution_count": null,
   "metadata": {},
   "outputs": [],
   "source": [
    "flow_x,flow_y, pixel_x, pixel_y = get_optical_flow(A, rgb_layers)\n",
    "new_pixel_x, new_pixel_y = get_new_pixels(pixel_x, pixel_y, flow_x, flow_y, round = True)\n",
    "\n",
    "print(pixel_x)\n",
    "print(pixel_y)\n",
    "print(new_pixel_x)\n",
    "print(new_pixel_y)\n"
   ]
  },
  {
   "cell_type": "code",
   "execution_count": null,
   "metadata": {},
   "outputs": [],
   "source": [
    "img2 = img.copy()\n",
    "#img2[pixel_x,pixel_y] = 0\n",
    "#img2[new_pixel_x,new_pixel_y] = 0\n",
    "img2[new_pixel_x,new_pixel_y] =  warped_rgb_layer[new_pixel_x,new_pixel_y]\n",
    "\n",
    "plt.figure(1)\n",
    "plt.imshow(img)\n",
    "plt.figure(2)\n",
    "plt.imshow(alpha_layers[0])\n",
    "plt.figure(3)\n",
    "plt.imshow(rgb_layers)\n",
    "plt.figure(4)\n",
    "plt.imshow(warped_rgb_layer)\n",
    "plt.figure(5)\n",
    "plt.imshow(img2)"
   ]
  },
  {
   "cell_type": "code",
   "execution_count": null,
   "metadata": {},
   "outputs": [],
   "source": []
  },
  {
   "cell_type": "code",
   "execution_count": null,
   "metadata": {},
   "outputs": [],
   "source": []
  }
 ],
 "metadata": {
  "kernelspec": {
   "display_name": "Python 3.10.4 64-bit ('3.10.4')",
   "language": "python",
   "name": "python3"
  },
  "language_info": {
   "name": "python",
   "version": "3.10.4"
  },
  "orig_nbformat": 4,
  "vscode": {
   "interpreter": {
    "hash": "30faa97237f3cf92c4aadc0e00db198090a3f71f9a5dec0e5f4913566d595b81"
   }
  }
 },
 "nbformat": 4,
 "nbformat_minor": 2
}
